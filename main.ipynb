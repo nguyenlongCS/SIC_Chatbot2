{
 "cells": [
  {
   "cell_type": "code",
   "execution_count": 1,
   "id": "7ca40ca7",
   "metadata": {},
   "outputs": [],
   "source": [
    "#Trắc Nghiệm VNHSGE - Lý, Hóa, Sinh\n",
    "# Dataset: https://github.com/Xdao85/VNHSGE"
   ]
  },
  {
   "cell_type": "code",
   "execution_count": 2,
   "id": "38f5c2d1",
   "metadata": {},
   "outputs": [
    {
     "name": "stdout",
     "output_type": "stream",
     "text": [
      "Import completed successfully\n"
     ]
    }
   ],
   "source": [
    "# Import và Setup \n",
    "import pandas as pd\n",
    "import numpy as np\n",
    "import json\n",
    "import re\n",
    "import random\n",
    "import os\n",
    "import glob\n",
    "from sklearn.model_selection import train_test_split\n",
    "from sklearn.feature_extraction.text import TfidfVectorizer\n",
    "from sklearn.naive_bayes import MultinomialNB\n",
    "from sklearn.metrics import accuracy_score, classification_report\n",
    "import pickle\n",
    "import streamlit as st\n",
    "import warnings\n",
    "warnings.filterwarnings('ignore')\n",
    "\n",
    "print(\"Import completed successfully\")"
   ]
  },
  {
   "cell_type": "code",
   "execution_count": 3,
   "id": "cd538cf7",
   "metadata": {},
   "outputs": [
    {
     "name": "stdout",
     "output_type": "stream",
     "text": [
      "Loaded 600 questions\n"
     ]
    }
   ],
   "source": [
    "# Load Data Functions \n",
    "def load_vnhsge_data(data_folder='Dataset'):\n",
    "    \"\"\"Load dữ liệu từ thư mục Dataset\"\"\"\n",
    "    subjects = ['Biology', 'Chemistry', 'Physics']\n",
    "    all_data = []\n",
    "    \n",
    "    for subject in subjects:\n",
    "        subject_path = os.path.join(data_folder, subject)\n",
    "        if not os.path.exists(subject_path):\n",
    "            continue\n",
    "            \n",
    "        json_files = glob.glob(os.path.join(subject_path, \"*.json\"))\n",
    "        \n",
    "        for json_file in json_files:\n",
    "            try:\n",
    "                with open(json_file, 'r', encoding='utf-8') as f:\n",
    "                    data = json.load(f)\n",
    "                \n",
    "                for item in data:\n",
    "                    if 'Question' in item and 'Choice' in item:\n",
    "                        question_text, options = parse_question(item['Question'])\n",
    "                        \n",
    "                        question_data = {\n",
    "                            'id': item.get('ID', ''),\n",
    "                            'question': question_text,\n",
    "                            'options': options,\n",
    "                            'answer': item['Choice'],\n",
    "                            'subject': subject.lower(),\n",
    "                            'explanation': item.get('Explanation', '')\n",
    "                        }\n",
    "                        all_data.append(question_data)\n",
    "            except:\n",
    "                continue\n",
    "    \n",
    "    return pd.DataFrame(all_data)\n",
    "\n",
    "def parse_question(question_full):\n",
    "    \"\"\"Tách câu hỏi và đáp án\"\"\"\n",
    "    lines = question_full.split('\\n')\n",
    "    \n",
    "    question = lines[0]\n",
    "    if question.startswith('Câu'):\n",
    "        question = re.sub(r'^Câu \\d+:\\s*', '', question)\n",
    "    \n",
    "    options = []\n",
    "    for line in lines[1:]:\n",
    "        line = line.strip()\n",
    "        if line and (line.startswith('A.') or line.startswith('B.') or \n",
    "                    line.startswith('C.') or line.startswith('D.')):\n",
    "            options.append(line)\n",
    "    \n",
    "    return question.strip(), options\n",
    "\n",
    "# Test load data\n",
    "data = load_vnhsge_data()\n",
    "print(f\"Loaded {len(data)} questions\")"
   ]
  },
  {
   "cell_type": "code",
   "execution_count": 4,
   "id": "b49a20db",
   "metadata": {},
   "outputs": [
    {
     "name": "stdout",
     "output_type": "stream",
     "text": [
      "Data statistics:\n",
      "biology: 200 questions\n",
      "chemistry: 200 questions\n",
      "physics: 200 questions\n"
     ]
    }
   ],
   "source": [
    "# Data Statistics \n",
    "def get_data_stats(data):\n",
    "    \"\"\"Thống kê dữ liệu\"\"\"\n",
    "    stats = {}\n",
    "    for subject in ['biology', 'chemistry', 'physics']:\n",
    "        subject_data = data[data['subject'] == subject]\n",
    "        stats[subject] = len(subject_data)\n",
    "    \n",
    "    return stats\n",
    "\n",
    "stats = get_data_stats(data)\n",
    "print(\"Data statistics:\")\n",
    "for subject, count in stats.items():\n",
    "    print(f\"{subject}: {count} questions\")"
   ]
  },
  {
   "cell_type": "code",
   "execution_count": 5,
   "id": "2bd33e77",
   "metadata": {},
   "outputs": [
    {
     "name": "stdout",
     "output_type": "stream",
     "text": [
      "Original: Câu 1: Chất béo là gì?\n",
      "Processed: câu 1 chất béo là gì\n"
     ]
    }
   ],
   "source": [
    "# Text Preprocessing \n",
    "def preprocess_text(text):\n",
    "    \"\"\"Tiền xử lý văn bản\"\"\"\n",
    "    text = text.lower()\n",
    "    text = re.sub(r'[^\\w\\sàáạảãâầấậẩẫăằắặẳẵèéẹẻẽêềếệểễìíịỉĩòóọỏõôồốộổỗơờớợởỡùúụủũưừứựửữỳýỵỷỹđ]', ' ', text)\n",
    "    text = ' '.join(text.split())\n",
    "    return text\n",
    "\n",
    "# Test preprocessing\n",
    "sample_text = \"Câu 1: Chất béo là gì?\"\n",
    "processed = preprocess_text(sample_text)\n",
    "print(f\"Original: {sample_text}\")\n",
    "print(f\"Processed: {processed}\")"
   ]
  },
  {
   "cell_type": "code",
   "execution_count": 6,
   "id": "c96f9688",
   "metadata": {},
   "outputs": [
    {
     "name": "stdout",
     "output_type": "stream",
     "text": [
      "Prepared 600 training samples\n"
     ]
    }
   ],
   "source": [
    "# Prepare Training Data \n",
    "def prepare_training_data(data):\n",
    "    \"\"\"Chuẩn bị dữ liệu training\"\"\"\n",
    "    questions = []\n",
    "    subjects = []\n",
    "    \n",
    "    for _, row in data.iterrows():\n",
    "        full_text = row['question'] + ' ' + ' '.join(row['options']) if row['options'] else row['question']\n",
    "        processed_question = preprocess_text(full_text)\n",
    "        questions.append(processed_question)\n",
    "        subjects.append(row['subject'])\n",
    "    \n",
    "    return questions, subjects\n",
    "\n",
    "questions, subjects = prepare_training_data(data)\n",
    "print(f\"Prepared {len(questions)} training samples\")"
   ]
  },
  {
   "cell_type": "code",
   "execution_count": 7,
   "id": "37bc7082",
   "metadata": {},
   "outputs": [
    {
     "name": "stdout",
     "output_type": "stream",
     "text": [
      "Train samples: 480\n",
      "Test samples: 120\n"
     ]
    }
   ],
   "source": [
    "# Split Train/Test Data \n",
    "X_train, X_test, y_train, y_test = train_test_split(\n",
    "    questions, subjects, \n",
    "    test_size=0.2, \n",
    "    random_state=42, \n",
    "    stratify=subjects\n",
    ")\n",
    "\n",
    "print(f\"Train samples: {len(X_train)}\")\n",
    "print(f\"Test samples: {len(X_test)}\")"
   ]
  },
  {
   "cell_type": "code",
   "execution_count": 8,
   "id": "d9e78707",
   "metadata": {},
   "outputs": [
    {
     "name": "stdout",
     "output_type": "stream",
     "text": [
      "Model accuracy: 0.992\n",
      "\n",
      "Detailed metrics by subject:\n",
      "Biology:\n",
      "  Precision: 1.000\n",
      "  Recall: 0.975\n",
      "  F1-score: 0.987\n",
      "  Support: 40\n",
      "Chemistry:\n",
      "  Precision: 1.000\n",
      "  Recall: 1.000\n",
      "  F1-score: 1.000\n",
      "  Support: 40\n",
      "Physics:\n",
      "  Precision: 0.976\n",
      "  Recall: 1.000\n",
      "  F1-score: 0.988\n",
      "  Support: 40\n",
      "\n",
      "Macro avg F1-score: 0.992\n",
      "Weighted avg F1-score: 0.992\n"
     ]
    }
   ],
   "source": [
    "# Create and Train Model =====\n",
    "def create_and_train_model(X_train, y_train, X_test, y_test):\n",
    "    \"\"\"Tạo và train model\"\"\"\n",
    "    vectorizer = TfidfVectorizer(\n",
    "        max_features=5000,\n",
    "        ngram_range=(1, 2),\n",
    "        min_df=2,\n",
    "        max_df=0.95\n",
    "    )\n",
    "    \n",
    "    classifier = MultinomialNB(alpha=0.1)\n",
    "    \n",
    "    # Vectorize và train\n",
    "    X_train_vec = vectorizer.fit_transform(X_train)\n",
    "    X_test_vec = vectorizer.transform(X_test)\n",
    "    \n",
    "    classifier.fit(X_train_vec, y_train)\n",
    "    \n",
    "    # Đánh giá\n",
    "    y_pred = classifier.predict(X_test_vec)\n",
    "    accuracy = accuracy_score(y_test, y_pred)\n",
    "    \n",
    "    # Classification report chi tiết\n",
    "    report = classification_report(y_test, y_pred, target_names=['biology', 'chemistry', 'physics'], output_dict=True)\n",
    "    \n",
    "    return vectorizer, classifier, accuracy, report\n",
    "\n",
    "vectorizer, classifier, accuracy, report = create_and_train_model(X_train, y_train, X_test, y_test)\n",
    "print(f\"Model accuracy: {accuracy:.3f}\")\n",
    "\n",
    "# Hiển thị Precision, Recall, F1-score cho từng môn\n",
    "print(\"\\nDetailed metrics by subject:\")\n",
    "for subject in ['biology', 'chemistry', 'physics']:\n",
    "    metrics = report[subject]\n",
    "    print(f\"{subject.capitalize()}:\")\n",
    "    print(f\"  Precision: {metrics['precision']:.3f}\")\n",
    "    print(f\"  Recall: {metrics['recall']:.3f}\")\n",
    "    print(f\"  F1-score: {metrics['f1-score']:.3f}\")\n",
    "    print(f\"  Support: {int(metrics['support'])}\")\n",
    "    \n",
    "print(f\"\\nMacro avg F1-score: {report['macro avg']['f1-score']:.3f}\")\n",
    "print(f\"Weighted avg F1-score: {report['weighted avg']['f1-score']:.3f}\")"
   ]
  },
  {
   "cell_type": "code",
   "execution_count": 9,
   "id": "44a3944c",
   "metadata": {},
   "outputs": [
    {
     "name": "stdout",
     "output_type": "stream",
     "text": [
      "Model saved: True\n"
     ]
    }
   ],
   "source": [
    "# Save/Load Model\n",
    "def save_model(vectorizer, classifier, path='vnhsge_model.pkl'):\n",
    "    \"\"\"Lưu model\"\"\"\n",
    "    model_data = {\n",
    "        'vectorizer': vectorizer,\n",
    "        'classifier': classifier\n",
    "    }\n",
    "    with open(path, 'wb') as f:\n",
    "        pickle.dump(model_data, f)\n",
    "    return True\n",
    "\n",
    "def load_model(path='vnhsge_model.pkl'):\n",
    "    \"\"\"Load model\"\"\"\n",
    "    try:\n",
    "        with open(path, 'rb') as f:\n",
    "            model_data = pickle.load(f)\n",
    "        return model_data['vectorizer'], model_data['classifier']\n",
    "    except:\n",
    "        return None, None\n",
    "\n",
    "# Save model\n",
    "save_status = save_model(vectorizer, classifier)\n",
    "print(f\"Model saved: {save_status}\")\n"
   ]
  },
  {
   "cell_type": "code",
   "execution_count": 10,
   "id": "6dd58681",
   "metadata": {},
   "outputs": [
    {
     "name": "stdout",
     "output_type": "stream",
     "text": [
      "Predicted subject: biology\n"
     ]
    }
   ],
   "source": [
    "# Prediction Function \n",
    "def predict_subject(question, vectorizer, classifier):\n",
    "    \"\"\"Dự đoán môn học\"\"\"\n",
    "    processed = preprocess_text(question)\n",
    "    question_vec = vectorizer.transform([processed])\n",
    "    prediction = classifier.predict(question_vec)[0]\n",
    "    return prediction\n",
    "\n",
    "# Test prediction\n",
    "test_question = \"Axit amin là đơn phân cấu tạo nên phân tử nào?\"\n",
    "predicted = predict_subject(test_question, vectorizer, classifier)\n",
    "print(f\"Predicted subject: {predicted}\")"
   ]
  },
  {
   "cell_type": "code",
   "execution_count": 11,
   "id": "2d9931fd",
   "metadata": {},
   "outputs": [
    {
     "name": "stdout",
     "output_type": "stream",
     "text": [
      "Random question: Câu 119. Phát biểu nào sau đây về quan hệ cạnh tra...\n"
     ]
    }
   ],
   "source": [
    "# Question Selection \n",
    "def get_random_question(data, subject=None):\n",
    "    \"\"\"Lấy câu hỏi ngẫu nhiên\"\"\"\n",
    "    if subject:\n",
    "        filtered_data = data[data['subject'] == subject]\n",
    "    else:\n",
    "        filtered_data = data\n",
    "    \n",
    "    if len(filtered_data) == 0:\n",
    "        return None\n",
    "    \n",
    "    return filtered_data.sample(1).iloc[0]\n",
    "\n",
    "# Test question selection\n",
    "random_question = get_random_question(data, 'biology')\n",
    "print(f\"Random question: {random_question['question'][:50]}...\")"
   ]
  },
  {
   "cell_type": "code",
   "execution_count": 12,
   "id": "122e6db6",
   "metadata": {},
   "outputs": [
    {
     "name": "stdout",
     "output_type": "stream",
     "text": [
      "Answer check result: True\n"
     ]
    }
   ],
   "source": [
    "# Answer Checking \n",
    "def check_answer(user_answer, correct_answer):\n",
    "    \"\"\"Kiểm tra đáp án\"\"\"\n",
    "    user_answer = user_answer.upper().strip()\n",
    "    correct_answer = correct_answer.upper().strip()\n",
    "    \n",
    "    is_correct = user_answer == correct_answer\n",
    "    return is_correct\n",
    "\n",
    "# Test answer checking\n",
    "result = check_answer('A', 'A')\n",
    "print(f\"Answer check result: {result}\")"
   ]
  },
  {
   "cell_type": "code",
   "execution_count": 13,
   "id": "ddc06d56",
   "metadata": {},
   "outputs": [
    {
     "name": "stdout",
     "output_type": "stream",
     "text": [
      "Score: 1/2 (50.0%)\n"
     ]
    }
   ],
   "source": [
    "# Score Tracking \n",
    "class ScoreTracker:\n",
    "    def __init__(self):\n",
    "        self.correct = 0\n",
    "        self.total = 0\n",
    "    \n",
    "    def add_result(self, is_correct):\n",
    "        self.total += 1\n",
    "        if is_correct:\n",
    "            self.correct += 1\n",
    "    \n",
    "    def get_accuracy(self):\n",
    "        if self.total == 0:\n",
    "            return 0\n",
    "        return (self.correct / self.total) * 100\n",
    "    \n",
    "    def reset(self):\n",
    "        self.correct = 0\n",
    "        self.total = 0\n",
    "\n",
    "# Test score tracker\n",
    "score_tracker = ScoreTracker()\n",
    "score_tracker.add_result(True)\n",
    "score_tracker.add_result(False)\n",
    "print(f\"Score: {score_tracker.correct}/{score_tracker.total} ({score_tracker.get_accuracy():.1f}%)\")"
   ]
  },
  {
   "cell_type": "code",
   "execution_count": 14,
   "id": "c7e3394a",
   "metadata": {},
   "outputs": [],
   "source": [
    "# Streamlit \n",
    "def create_streamlit_app():\n",
    "    \"\"\"Tạo giao diện Streamlit\"\"\"\n",
    "    \n",
    "    st.title(\"Trắc Nghiệm VNHSGE\")\n",
    "    st.write(\"Hệ thống hỏi đáp trắc nghiệm Lý - Hóa - Sinh\")\n",
    "    \n",
    "    # Initialize session state\n",
    "    if 'data' not in st.session_state:\n",
    "        st.session_state.data = load_vnhsge_data()\n",
    "        st.session_state.vectorizer, st.session_state.classifier = load_model()\n",
    "        st.session_state.score_tracker = ScoreTracker()\n",
    "        st.session_state.current_question = None\n",
    "    \n",
    "    # Subject selection\n",
    "    subject_options = {\n",
    "        'Ngẫu nhiên': None,\n",
    "        'Sinh học': 'biology',\n",
    "        'Hóa học': 'chemistry', \n",
    "        'Vật lý': 'physics'\n",
    "    }\n",
    "    \n",
    "    selected_subject = st.selectbox(\"Chọn môn học:\", list(subject_options.keys()))\n",
    "    subject_code = subject_options[selected_subject]\n",
    "    \n",
    "    # Get new question button\n",
    "    if st.button(\"Câu hỏi mới\"):\n",
    "        st.session_state.current_question = get_random_question(st.session_state.data, subject_code)\n",
    "    \n",
    "    # Display current question\n",
    "    if st.session_state.current_question is not None:\n",
    "        question = st.session_state.current_question\n",
    "        \n",
    "        st.write(\"**Câu hỏi:**\")\n",
    "        st.write(question['question'])\n",
    "        \n",
    "        st.write(\"**Các đáp án:**\")\n",
    "        for option in question['options']:\n",
    "            st.write(option)\n",
    "        \n",
    "        # Answer input\n",
    "        user_answer = st.radio(\"Chọn đáp án:\", ['A', 'B', 'C', 'D'])\n",
    "        \n",
    "        # Submit answer\n",
    "        if st.button(\"Gửi đáp án\"):\n",
    "            is_correct = check_answer(user_answer, question['answer'])\n",
    "            st.session_state.score_tracker.add_result(is_correct)\n",
    "            \n",
    "            if is_correct:\n",
    "                st.success(\"Đúng!\")\n",
    "            else:\n",
    "                st.error(f\"Sai! Đáp án đúng là: {question['answer']}\")\n",
    "            \n",
    "            if question['explanation']:\n",
    "                st.info(f\"Giải thích: {question['explanation']}\")\n",
    "        \n",
    "        # Display score\n",
    "        st.write(\"---\")\n",
    "        st.write(f\"**Điểm số:** {st.session_state.score_tracker.correct}/{st.session_state.score_tracker.total}\")\n",
    "        st.write(f\"**Độ chính xác:** {st.session_state.score_tracker.get_accuracy():.1f}%\")\n",
    "    \n",
    "    else:\n",
    "        st.write(\"Nhấn 'Câu hỏi mới' để bắt đầu!\")"
   ]
  },
  {
   "cell_type": "code",
   "execution_count": 15,
   "id": "b924a17e",
   "metadata": {},
   "outputs": [
    {
     "name": "stderr",
     "output_type": "stream",
     "text": [
      "2025-07-25 01:26:29.876 WARNING streamlit.runtime.scriptrunner_utils.script_run_context: Thread 'MainThread': missing ScriptRunContext! This warning can be ignored when running in bare mode.\n",
      "2025-07-25 01:26:30.629 \n",
      "  \u001b[33m\u001b[1mWarning:\u001b[0m to view this Streamlit app on a browser, run it with the following\n",
      "  command:\n",
      "\n",
      "    streamlit run C:\\Users\\thanh\\AppData\\Roaming\\Python\\Python310\\site-packages\\ipykernel_launcher.py [ARGUMENTS]\n",
      "2025-07-25 01:26:30.630 Thread 'MainThread': missing ScriptRunContext! This warning can be ignored when running in bare mode.\n",
      "2025-07-25 01:26:30.630 Thread 'MainThread': missing ScriptRunContext! This warning can be ignored when running in bare mode.\n",
      "2025-07-25 01:26:30.633 Thread 'MainThread': missing ScriptRunContext! This warning can be ignored when running in bare mode.\n",
      "2025-07-25 01:26:30.633 Thread 'MainThread': missing ScriptRunContext! This warning can be ignored when running in bare mode.\n",
      "2025-07-25 01:26:30.634 Thread 'MainThread': missing ScriptRunContext! This warning can be ignored when running in bare mode.\n",
      "2025-07-25 01:26:30.636 Thread 'MainThread': missing ScriptRunContext! This warning can be ignored when running in bare mode.\n",
      "2025-07-25 01:26:30.636 Session state does not function when running a script without `streamlit run`\n",
      "2025-07-25 01:26:30.651 Thread 'MainThread': missing ScriptRunContext! This warning can be ignored when running in bare mode.\n",
      "2025-07-25 01:26:30.653 Thread 'MainThread': missing ScriptRunContext! This warning can be ignored when running in bare mode.\n",
      "2025-07-25 01:26:30.668 Thread 'MainThread': missing ScriptRunContext! This warning can be ignored when running in bare mode.\n",
      "2025-07-25 01:26:30.669 Thread 'MainThread': missing ScriptRunContext! This warning can be ignored when running in bare mode.\n",
      "2025-07-25 01:26:30.670 Thread 'MainThread': missing ScriptRunContext! This warning can be ignored when running in bare mode.\n",
      "2025-07-25 01:26:30.670 Thread 'MainThread': missing ScriptRunContext! This warning can be ignored when running in bare mode.\n",
      "2025-07-25 01:26:30.671 Thread 'MainThread': missing ScriptRunContext! This warning can be ignored when running in bare mode.\n",
      "2025-07-25 01:26:30.671 Thread 'MainThread': missing ScriptRunContext! This warning can be ignored when running in bare mode.\n",
      "2025-07-25 01:26:30.672 Thread 'MainThread': missing ScriptRunContext! This warning can be ignored when running in bare mode.\n",
      "2025-07-25 01:26:30.673 Thread 'MainThread': missing ScriptRunContext! This warning can be ignored when running in bare mode.\n",
      "2025-07-25 01:26:30.673 Thread 'MainThread': missing ScriptRunContext! This warning can be ignored when running in bare mode.\n",
      "2025-07-25 01:26:30.674 Thread 'MainThread': missing ScriptRunContext! This warning can be ignored when running in bare mode.\n",
      "2025-07-25 01:26:30.676 Thread 'MainThread': missing ScriptRunContext! This warning can be ignored when running in bare mode.\n",
      "2025-07-25 01:26:30.676 Thread 'MainThread': missing ScriptRunContext! This warning can be ignored when running in bare mode.\n",
      "2025-07-25 01:26:30.677 Thread 'MainThread': missing ScriptRunContext! This warning can be ignored when running in bare mode.\n",
      "2025-07-25 01:26:30.677 Thread 'MainThread': missing ScriptRunContext! This warning can be ignored when running in bare mode.\n",
      "2025-07-25 01:26:30.678 Thread 'MainThread': missing ScriptRunContext! This warning can be ignored when running in bare mode.\n",
      "2025-07-25 01:26:30.679 Thread 'MainThread': missing ScriptRunContext! This warning can be ignored when running in bare mode.\n",
      "2025-07-25 01:26:30.680 Thread 'MainThread': missing ScriptRunContext! This warning can be ignored when running in bare mode.\n",
      "2025-07-25 01:26:30.680 Thread 'MainThread': missing ScriptRunContext! This warning can be ignored when running in bare mode.\n",
      "2025-07-25 01:26:30.681 Thread 'MainThread': missing ScriptRunContext! This warning can be ignored when running in bare mode.\n",
      "2025-07-25 01:26:30.682 Thread 'MainThread': missing ScriptRunContext! This warning can be ignored when running in bare mode.\n",
      "2025-07-25 01:26:30.683 Thread 'MainThread': missing ScriptRunContext! This warning can be ignored when running in bare mode.\n",
      "2025-07-25 01:26:30.684 Thread 'MainThread': missing ScriptRunContext! This warning can be ignored when running in bare mode.\n",
      "2025-07-25 01:26:30.685 Thread 'MainThread': missing ScriptRunContext! This warning can be ignored when running in bare mode.\n",
      "2025-07-25 01:26:30.685 Thread 'MainThread': missing ScriptRunContext! This warning can be ignored when running in bare mode.\n",
      "2025-07-25 01:26:30.686 Thread 'MainThread': missing ScriptRunContext! This warning can be ignored when running in bare mode.\n"
     ]
    },
    {
     "name": "stdout",
     "output_type": "stream",
     "text": [
      "Streamlit app ready. Run with: streamlit run main.py\n"
     ]
    }
   ],
   "source": [
    "# Run Streamlit App \n",
    "if __name__ == \"__main__\":\n",
    "    # Để chạy app streamlit, sử dụng lệnh:\n",
    "    # streamlit run main.py\n",
    "    create_streamlit_app()\n",
    "\n",
    "print(\"Streamlit app ready. Run with: streamlit run main.py\")"
   ]
  }
 ],
 "metadata": {
  "kernelspec": {
   "display_name": "Python 3",
   "language": "python",
   "name": "python3"
  },
  "language_info": {
   "codemirror_mode": {
    "name": "ipython",
    "version": 3
   },
   "file_extension": ".py",
   "mimetype": "text/x-python",
   "name": "python",
   "nbconvert_exporter": "python",
   "pygments_lexer": "ipython3",
   "version": "3.10.0"
  }
 },
 "nbformat": 4,
 "nbformat_minor": 5
}
